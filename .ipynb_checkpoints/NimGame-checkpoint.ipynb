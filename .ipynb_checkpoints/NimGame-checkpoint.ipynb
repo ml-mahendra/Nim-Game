{
 "cells": [
  {
   "cell_type": "markdown",
   "metadata": {},
   "source": [
    "## Rules of the 1-heap Nim game: \n",
    "\n",
    "1. There are two players who alternate in making a move. Given is a single heap of sticks. The heap contains an integer number n ∈ N of sticks. \n",
    "\n",
    "2. When it is the turn of a player, that player takes a number of sticks from the heap, either 1, 2, or 3, but never more than the remaining number of sticks in the heap. \n",
    "\n",
    "3. After taking these sticks, it is the other player’s turn. They, again, can take 1, 2, or 3 sticks (but never more than the remaining number of sticks). \n",
    "\n",
    "4. Then, the first player plays again, and so on. The game ends when a player leaves no sticks in the heap. \n",
    "\n",
    "5. The player who takes the last stick or sticks, wins. Or, said otherwise, the player who first cannot make a move, loses.\n"
   ]
  },
  {
   "cell_type": "code",
   "execution_count": 1,
   "metadata": {},
   "outputs": [],
   "source": [
    "# Importing the random module, as we use a random legal move. \n",
    "import random"
   ]
  },
  {
   "cell_type": "code",
   "execution_count": 3,
   "metadata": {},
   "outputs": [],
   "source": [
    "# Always gives value 1 or takes 1 stick from the heap\n",
    "\n",
    "def nim_minimal(n):\n",
    "    return 1"
   ]
  },
  {
   "cell_type": "code",
   "execution_count": 4,
   "metadata": {},
   "outputs": [],
   "source": [
    "# This function take sticks from 1 to 3 randomly, producing a random legal move\n",
    "\n",
    "def nim(n):\n",
    "        return random.randint(1, min(3, n))"
   ]
  },
  {
   "cell_type": "code",
   "execution_count": 5,
   "metadata": {},
   "outputs": [],
   "source": [
    "# Lets write an function that gives the optimal move\n",
    "\n",
    "def nim_best(n):\n",
    "    return n % 4 if n % 4 != 0 else random.randint(1, 3)"
   ]
  },
  {
   "cell_type": "code",
   "execution_count": 6,
   "metadata": {},
   "outputs": [],
   "source": [
    "# Now lets write a function that takes the human input\n",
    "\n",
    "def nim_human(n):\n",
    "    while True:\n",
    "        try:\n",
    "            move = int(input(f\"Your turn! How many sticks do you want to remove? (Current Heap Size: {n}): \"))\n",
    "\n",
    "            if 1 <= move <= 3 and move <= n:\n",
    "                return move\n",
    "            else:\n",
    "                print(\"Invalid move. Try again (Number between 1 and 3, not exceeding n)\")\n",
    "        except ValueError: # WIll throw an error if the input is not numeric. \n",
    "            print(\"Invalid input. Please enter a valid input(Numeric)\")"
   ]
  },
  {
   "cell_type": "code",
   "execution_count": 8,
   "metadata": {},
   "outputs": [],
   "source": [
    "# Player Selection\n",
    "\n",
    "def select_players():\n",
    "\n",
    "    print(\"Select any Two Players from the below: \")\n",
    "    print(\"1. Computer (Random Move)\")\n",
    "    print(\"2. Computer (Optimal Move)\")\n",
    "    print(\"3. Human\")\n",
    "        \n",
    "    while True:\n",
    "        try:\n",
    "            player1 = int(input(\"Enter Player 1: \"))\n",
    "            player2 = int(input(\"Enter Player 2: \"))\n",
    "            if player1 != player2:\n",
    "                players = []\n",
    "                break\n",
    "            else:\n",
    "                print(\"Player 1 and Player 2 must be different. Select again.\")\n",
    "        except ValueError:\n",
    "            print(\"Not a valid Player...! Select again\")\n",
    "\n",
    "    if player1 == 1:\n",
    "        players.append(nim)\n",
    "    elif player1 == 2:\n",
    "        players.append(nim_best)\n",
    "    elif player1 == 3:\n",
    "        players.append(nim_human)\n",
    "\n",
    "    if player2 == 1:\n",
    "        players.append(nim)\n",
    "    elif player2 == 2:\n",
    "        players.append(nim_best)\n",
    "    elif player2 == 3:\n",
    "        players.append(nim_human)\n",
    "\n",
    "    return players"
   ]
  },
  {
   "cell_type": "code",
   "execution_count": 9,
   "metadata": {},
   "outputs": [
    {
     "name": "stdout",
     "output_type": "stream",
     "text": [
      "Enter the Initial Heap Size: 5\n",
      "Select any Two Players from the below: \n",
      "1. Computer (Random Move)\n",
      "2. Computer (Optimal Move)\n",
      "3. Human\n",
      "Enter Player 1: 1\n",
      "Enter Player 2: 3\n",
      "\n",
      "Heap Size: 5\n",
      "Player 1 removes 2 sticks.\n",
      "\n",
      "\n",
      "Heap Size: 3\n",
      "Your turn! How many sticks do you want to remove? (Current Heap Size: 3): 3\n",
      "Player 2 removes 3 sticks.\n",
      "\n",
      "Player 2 wins\n",
      "Player 1 has no moves left and loses\n"
     ]
    }
   ],
   "source": [
    "# Game Control\n",
    "\n",
    "def game_control():\n",
    "    heap_size = int(input(\"Enter the Initial Heap Size: \"))\n",
    "    players = select_players()\n",
    "    current_player = 0\n",
    "\n",
    "    while heap_size > 0:\n",
    "        print(f\"\\nHeap Size: {heap_size}\")\n",
    "        move = players[current_player](heap_size)\n",
    "        print(f\"Player {current_player + 1} removes {move} sticks.\\n\")\n",
    "        heap_size -= move\n",
    "        current_player = 1 - current_player\n",
    "\n",
    "    print(f\"Player {1 - current_player + 1} wins\")\n",
    "    print(f\"Player {current_player + 1} has no moves left and lost the game\")\n",
    "game_control()"
   ]
  }
 ],
 "metadata": {
  "kernelspec": {
   "display_name": "Python 3",
   "language": "python",
   "name": "python3"
  },
  "language_info": {
   "codemirror_mode": {
    "name": "ipython",
    "version": 3
   },
   "file_extension": ".py",
   "mimetype": "text/x-python",
   "name": "python",
   "nbconvert_exporter": "python",
   "pygments_lexer": "ipython3",
   "version": "3.8.5"
  }
 },
 "nbformat": 4,
 "nbformat_minor": 4
}
