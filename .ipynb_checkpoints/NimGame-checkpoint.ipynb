{
 "cells": [
  {
   "cell_type": "markdown",
   "metadata": {},
   "source": [
    "## Rules of the 1-heap Nim game: \n",
    "\n",
    "1. There are two players who alternate in making a move. Given is a single heap of sticks. The heap contains an integer number n ∈ N of sticks. \n",
    "\n",
    "2. When it is the turn of a player, that player takes a number of sticks from the heap, either 1, 2, or 3, but never more than the remaining number of sticks in the heap. \n",
    "\n",
    "3. After taking these sticks, it is the other player’s turn. They, again, can take 1, 2, or 3 sticks (but never more than the remaining number of sticks). \n",
    "\n",
    "4. Then, the first player plays again, and so on. The game ends when a player leaves no sticks in the heap. \n",
    "\n",
    "5. The player who takes the last stick or sticks, wins. Or, said otherwise, the player who first cannot make a move, loses.\n"
   ]
  },
  {
   "cell_type": "code",
   "execution_count": 1,
   "metadata": {},
   "outputs": [],
   "source": [
    "# Importing the random module, as we use a random legal move. \n",
    "import random"
   ]
  },
  {
   "cell_type": "code",
   "execution_count": 3,
   "metadata": {},
   "outputs": [],
   "source": [
    "# Always gives value 1 or takes 1 stick from the heap\n",
    "\n",
    "def nim_minimal(n):\n",
    "    return 1"
   ]
  },
  {
   "cell_type": "code",
   "execution_count": null,
   "metadata": {},
   "outputs": [],
   "source": [
    "# This function take sticks from 1 to 3 randomly, producing a random legal move\n",
    "\n",
    "def nim(n):\n",
    "        return random.randint(1, min(3, n))"
   ]
  }
 ],
 "metadata": {
  "kernelspec": {
   "display_name": "Python 3",
   "language": "python",
   "name": "python3"
  },
  "language_info": {
   "codemirror_mode": {
    "name": "ipython",
    "version": 3
   },
   "file_extension": ".py",
   "mimetype": "text/x-python",
   "name": "python",
   "nbconvert_exporter": "python",
   "pygments_lexer": "ipython3",
   "version": "3.8.5"
  }
 },
 "nbformat": 4,
 "nbformat_minor": 4
}
